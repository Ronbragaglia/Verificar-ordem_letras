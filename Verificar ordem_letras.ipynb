{
  "nbformat": 4,
  "nbformat_minor": 0,
  "metadata": {
    "colab": {
      "provenance": []
    },
    "kernelspec": {
      "name": "python3",
      "display_name": "Python 3"
    },
    "language_info": {
      "name": "python"
    }
  },
  "cells": [
    {
      "cell_type": "code",
      "execution_count": null,
      "metadata": {
        "colab": {
          "base_uri": "https://localhost:8080/"
        },
        "id": "A1slHbLuvbdM",
        "outputId": "ddb44b47-5c23-448d-9374-4e66da9387be"
      },
      "outputs": [
        {
          "output_type": "stream",
          "name": "stdout",
          "text": [
            "As letras da palavra 'sapato' não aparecem na mesma ordem na frase 1.\n",
            "As letras da palavra 'sapato' aparecem na mesma ordem na frase 2.\n"
          ]
        }
      ],
      "source": [
        "import re\n",
        "\n",
        "def verificar_ordem_letras(palavra, frase):\n",
        "    padrao = '.*'.join(list(palavra)) + '.*'\n",
        "\n",
        "    if re.search(padrao, frase):\n",
        "        return True\n",
        "    else:\n",
        "        return False\n",
        "\n",
        "palavra_fornecida = \"sapato\"\n",
        "frase1 = \"O cafe da manha estava uma delicia.\"\n",
        "frase2 = \"O sapato da minha filha estava muito apertado.\"\n",
        "\n",
        "if verificar_ordem_letras(palavra_fornecida, frase1):\n",
        "    print(\"As letras da palavra '{}' aparecem na mesma ordem na frase 1.\".format(palavra_fornecida))\n",
        "else:\n",
        "    print(\"As letras da palavra '{}' não aparecem na mesma ordem na frase 1.\".format(palavra_fornecida))\n",
        "\n",
        "if verificar_ordem_letras(palavra_fornecida, frase2):\n",
        "    print(\"As letras da palavra '{}' aparecem na mesma ordem na frase 2.\".format(palavra_fornecida))\n",
        "else:\n",
        "    print(\"As letras da palavra '{}' não aparecem na mesma ordem na frase 2.\".format(palavra_fornecida))"
      ]
    }
  ]
}